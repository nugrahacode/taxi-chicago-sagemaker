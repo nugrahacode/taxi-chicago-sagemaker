{
 "cells": [
  {
   "cell_type": "code",
   "execution_count": 18,
   "metadata": {},
   "outputs": [],
   "source": [
    "import pandas as pd\n",
    "import copy\n",
    "from datetime import datetime"
   ]
  },
  {
   "cell_type": "code",
   "execution_count": 19,
   "metadata": {},
   "outputs": [
    {
     "name": "stderr",
     "output_type": "stream",
     "text": [
      "/var/folders/rx/bd4w1_rj14dc769hx_f2fy800000gp/T/ipykernel_44694/4242137954.py:1: DtypeWarning: Columns (5,10,13,14) have mixed types. Specify dtype option on import or set low_memory=False.\n",
      "  data = pd.read_csv(\"/Users/boni.nugraha/Downloads/Taxi_Trips.csv\")\n"
     ]
    }
   ],
   "source": [
    "data = pd.read_csv(\"/Users/boni.nugraha/Downloads/Taxi_Trips.csv\")"
   ]
  },
  {
   "cell_type": "markdown",
   "metadata": {},
   "source": [
    "# ALL DATA CLEANUP"
   ]
  },
  {
   "cell_type": "code",
   "execution_count": 30,
   "metadata": {},
   "outputs": [
    {
     "data": {
      "text/plain": [
       "(2631878, 13)"
      ]
     },
     "execution_count": 30,
     "metadata": {},
     "output_type": "execute_result"
    }
   ],
   "source": [
    "data_ = copy.deepcopy(data)\n",
    "\n",
    "# Delete unused cols\n",
    "del data_[\"Pickup Census Tract\"] # This is not complete\n",
    "del data_[\"Dropoff Census Tract\"] # This is not complete\n",
    "del data_[\"Trip ID\"] # This is irrelevant\n",
    "del data_[\"Taxi ID\"] # This is irrelevant\n",
    "del data_[\"Pickup Centroid Location\"] # Already accomodated in other cols\n",
    "del data_[\"Dropoff Centroid  Location\"] # Already accomodated in other cols\n",
    "del data_[\"Fare\"] # This is not complete and already accomodated in Trip Total col\n",
    "del data_[\"Trip Miles\"] # This is not complete\n",
    "del data_[\"Trip End Timestamp\"] # This is not relevant, it's better to use Trip Seconds instead\n",
    "del data_[\"Company\"] # Name can changes over time, and company can closed anytime.\n",
    "data_.dropna(inplace=True)\n",
    "data_.shape"
   ]
  },
  {
   "cell_type": "code",
   "execution_count": 31,
   "metadata": {},
   "outputs": [],
   "source": [
    "# Clean and transform\n",
    "data_[\"Trip Total\"] = data_[\"Trip Total\"].str.replace(\",\", \"\").astype(float)\n",
    "data_[\"Trip Seconds\"] = data_[\"Trip Seconds\"].str.replace(\",\", \"\").astype(float)\n",
    "data_[\"Extras\"] = data_[\"Extras\"].str.replace(\",\", \"\").astype(float)\n",
    "\n",
    "data_[\"Trip Start Timestamp\"] = data_.apply(lambda x: datetime.strptime(x[\"Trip Start Timestamp\"], \"%m/%d/%Y %I:%M:%S %p\"), axis=1)"
   ]
  },
  {
   "cell_type": "code",
   "execution_count": 32,
   "metadata": {},
   "outputs": [
    {
     "data": {
      "text/plain": [
       "(2297168, 13)"
      ]
     },
     "execution_count": 32,
     "metadata": {},
     "output_type": "execute_result"
    }
   ],
   "source": [
    "# Remove NAs and 0s\n",
    "data_.dropna(inplace=True)\n",
    "data_ = data_[data_[\"Trip Total\"] > 0]\n",
    "\n",
    "data_.shape"
   ]
  },
  {
   "cell_type": "code",
   "execution_count": 33,
   "metadata": {},
   "outputs": [
    {
     "name": "stdout",
     "output_type": "stream",
     "text": [
      "<class 'pandas.core.frame.DataFrame'>\n",
      "Index: 2297168 entries, 0 to 3128912\n",
      "Data columns (total 16 columns):\n",
      " #   Column                      Dtype  \n",
      "---  ------                      -----  \n",
      " 0   Trip Seconds                float64\n",
      " 1   Pickup Community Area       object \n",
      " 2   Dropoff Community Area      object \n",
      " 3   Tips                        float64\n",
      " 4   Tolls                       float64\n",
      " 5   Extras                      float64\n",
      " 6   Trip Total                  float64\n",
      " 7   Payment Type                object \n",
      " 8   Pickup Centroid Latitude    float64\n",
      " 9   Pickup Centroid Longitude   float64\n",
      " 10  Dropoff Centroid Latitude   float64\n",
      " 11  Dropoff Centroid Longitude  float64\n",
      " 12  month                       int32  \n",
      " 13  day                         int32  \n",
      " 14  dayofweek                   int32  \n",
      " 15  hour                        int32  \n",
      "dtypes: float64(9), int32(4), object(3)\n",
      "memory usage: 262.9+ MB\n"
     ]
    }
   ],
   "source": [
    "# Transformation\n",
    "data_[\"month\"] = data_[\"Trip Start Timestamp\"].dt.month\n",
    "data_[\"day\"] = data_[\"Trip Start Timestamp\"].dt.day\n",
    "data_[\"dayofweek\"] = data_[\"Trip Start Timestamp\"].dt.dayofweek\n",
    "data_[\"hour\"] = data_[\"Trip Start Timestamp\"].dt.hour\n",
    "del data_[\"Trip Start Timestamp\"] # Remove unused col\n",
    "\n",
    "data_[\"Pickup Community Area\"] = data_[\"Pickup Community Area\"].astype(int)\n",
    "data_[\"Pickup Community Area\"] = data_[\"Pickup Community Area\"].astype(str)\n",
    "data_[\"Dropoff Community Area\"] = data_[\"Dropoff Community Area\"].astype(int)\n",
    "data_[\"Dropoff Community Area\"] = data_[\"Dropoff Community Area\"].astype(str)\n",
    "\n",
    "data_.info()"
   ]
  },
  {
   "cell_type": "code",
   "execution_count": 28,
   "metadata": {},
   "outputs": [
    {
     "data": {
      "text/html": [
       "<div>\n",
       "<style scoped>\n",
       "    .dataframe tbody tr th:only-of-type {\n",
       "        vertical-align: middle;\n",
       "    }\n",
       "\n",
       "    .dataframe tbody tr th {\n",
       "        vertical-align: top;\n",
       "    }\n",
       "\n",
       "    .dataframe thead th {\n",
       "        text-align: right;\n",
       "    }\n",
       "</style>\n",
       "<table border=\"1\" class=\"dataframe\">\n",
       "  <thead>\n",
       "    <tr style=\"text-align: right;\">\n",
       "      <th></th>\n",
       "      <th>trip_seconds</th>\n",
       "      <th>tips</th>\n",
       "      <th>tolls</th>\n",
       "      <th>extras</th>\n",
       "      <th>trip_total</th>\n",
       "      <th>pickup_centroid_latitude</th>\n",
       "      <th>pickup_centroid_longitude</th>\n",
       "      <th>dropoff_centroid_latitude</th>\n",
       "      <th>dropoff_centroid_longitude</th>\n",
       "      <th>month</th>\n",
       "      <th>...</th>\n",
       "      <th>dropoff_community_area_8</th>\n",
       "      <th>dropoff_community_area_9</th>\n",
       "      <th>payment_type_credit_card</th>\n",
       "      <th>payment_type_dispute</th>\n",
       "      <th>payment_type_mobile</th>\n",
       "      <th>payment_type_no_charge</th>\n",
       "      <th>payment_type_pcard</th>\n",
       "      <th>payment_type_prcard</th>\n",
       "      <th>payment_type_prepaid</th>\n",
       "      <th>payment_type_unknown</th>\n",
       "    </tr>\n",
       "  </thead>\n",
       "  <tbody>\n",
       "    <tr>\n",
       "      <th>0</th>\n",
       "      <td>480.0</td>\n",
       "      <td>2.00</td>\n",
       "      <td>0.0</td>\n",
       "      <td>1.0</td>\n",
       "      <td>11.25</td>\n",
       "      <td>41.907492</td>\n",
       "      <td>-87.635760</td>\n",
       "      <td>41.885281</td>\n",
       "      <td>-87.657233</td>\n",
       "      <td>10</td>\n",
       "      <td>...</td>\n",
       "      <td>False</td>\n",
       "      <td>False</td>\n",
       "      <td>True</td>\n",
       "      <td>False</td>\n",
       "      <td>False</td>\n",
       "      <td>False</td>\n",
       "      <td>False</td>\n",
       "      <td>False</td>\n",
       "      <td>False</td>\n",
       "      <td>False</td>\n",
       "    </tr>\n",
       "    <tr>\n",
       "      <th>1</th>\n",
       "      <td>300.0</td>\n",
       "      <td>0.00</td>\n",
       "      <td>0.0</td>\n",
       "      <td>0.0</td>\n",
       "      <td>6.45</td>\n",
       "      <td>41.914616</td>\n",
       "      <td>-87.631717</td>\n",
       "      <td>41.899156</td>\n",
       "      <td>-87.626211</td>\n",
       "      <td>9</td>\n",
       "      <td>...</td>\n",
       "      <td>True</td>\n",
       "      <td>False</td>\n",
       "      <td>False</td>\n",
       "      <td>False</td>\n",
       "      <td>False</td>\n",
       "      <td>False</td>\n",
       "      <td>False</td>\n",
       "      <td>False</td>\n",
       "      <td>False</td>\n",
       "      <td>False</td>\n",
       "    </tr>\n",
       "    <tr>\n",
       "      <th>2</th>\n",
       "      <td>2220.0</td>\n",
       "      <td>6.00</td>\n",
       "      <td>0.0</td>\n",
       "      <td>2.0</td>\n",
       "      <td>36.05</td>\n",
       "      <td>41.980264</td>\n",
       "      <td>-87.913625</td>\n",
       "      <td>41.975171</td>\n",
       "      <td>-87.687516</td>\n",
       "      <td>10</td>\n",
       "      <td>...</td>\n",
       "      <td>False</td>\n",
       "      <td>False</td>\n",
       "      <td>True</td>\n",
       "      <td>False</td>\n",
       "      <td>False</td>\n",
       "      <td>False</td>\n",
       "      <td>False</td>\n",
       "      <td>False</td>\n",
       "      <td>False</td>\n",
       "      <td>False</td>\n",
       "    </tr>\n",
       "    <tr>\n",
       "      <th>3</th>\n",
       "      <td>480.0</td>\n",
       "      <td>0.00</td>\n",
       "      <td>0.0</td>\n",
       "      <td>0.0</td>\n",
       "      <td>6.25</td>\n",
       "      <td>41.884987</td>\n",
       "      <td>-87.620993</td>\n",
       "      <td>41.880994</td>\n",
       "      <td>-87.632746</td>\n",
       "      <td>10</td>\n",
       "      <td>...</td>\n",
       "      <td>False</td>\n",
       "      <td>False</td>\n",
       "      <td>False</td>\n",
       "      <td>False</td>\n",
       "      <td>False</td>\n",
       "      <td>False</td>\n",
       "      <td>False</td>\n",
       "      <td>False</td>\n",
       "      <td>False</td>\n",
       "      <td>False</td>\n",
       "    </tr>\n",
       "    <tr>\n",
       "      <th>4</th>\n",
       "      <td>480.0</td>\n",
       "      <td>2.00</td>\n",
       "      <td>0.0</td>\n",
       "      <td>0.0</td>\n",
       "      <td>8.65</td>\n",
       "      <td>41.902788</td>\n",
       "      <td>-87.626146</td>\n",
       "      <td>41.890922</td>\n",
       "      <td>-87.618868</td>\n",
       "      <td>10</td>\n",
       "      <td>...</td>\n",
       "      <td>True</td>\n",
       "      <td>False</td>\n",
       "      <td>True</td>\n",
       "      <td>False</td>\n",
       "      <td>False</td>\n",
       "      <td>False</td>\n",
       "      <td>False</td>\n",
       "      <td>False</td>\n",
       "      <td>False</td>\n",
       "      <td>False</td>\n",
       "    </tr>\n",
       "    <tr>\n",
       "      <th>...</th>\n",
       "      <td>...</td>\n",
       "      <td>...</td>\n",
       "      <td>...</td>\n",
       "      <td>...</td>\n",
       "      <td>...</td>\n",
       "      <td>...</td>\n",
       "      <td>...</td>\n",
       "      <td>...</td>\n",
       "      <td>...</td>\n",
       "      <td>...</td>\n",
       "      <td>...</td>\n",
       "      <td>...</td>\n",
       "      <td>...</td>\n",
       "      <td>...</td>\n",
       "      <td>...</td>\n",
       "      <td>...</td>\n",
       "      <td>...</td>\n",
       "      <td>...</td>\n",
       "      <td>...</td>\n",
       "      <td>...</td>\n",
       "      <td>...</td>\n",
       "    </tr>\n",
       "    <tr>\n",
       "      <th>3128907</th>\n",
       "      <td>780.0</td>\n",
       "      <td>2.00</td>\n",
       "      <td>0.0</td>\n",
       "      <td>0.0</td>\n",
       "      <td>10.85</td>\n",
       "      <td>41.879255</td>\n",
       "      <td>-87.642649</td>\n",
       "      <td>41.891972</td>\n",
       "      <td>-87.612945</td>\n",
       "      <td>12</td>\n",
       "      <td>...</td>\n",
       "      <td>True</td>\n",
       "      <td>False</td>\n",
       "      <td>True</td>\n",
       "      <td>False</td>\n",
       "      <td>False</td>\n",
       "      <td>False</td>\n",
       "      <td>False</td>\n",
       "      <td>False</td>\n",
       "      <td>False</td>\n",
       "      <td>False</td>\n",
       "    </tr>\n",
       "    <tr>\n",
       "      <th>3128908</th>\n",
       "      <td>1080.0</td>\n",
       "      <td>2.35</td>\n",
       "      <td>0.0</td>\n",
       "      <td>1.5</td>\n",
       "      <td>14.10</td>\n",
       "      <td>41.880994</td>\n",
       "      <td>-87.632746</td>\n",
       "      <td>41.898332</td>\n",
       "      <td>-87.620763</td>\n",
       "      <td>11</td>\n",
       "      <td>...</td>\n",
       "      <td>True</td>\n",
       "      <td>False</td>\n",
       "      <td>True</td>\n",
       "      <td>False</td>\n",
       "      <td>False</td>\n",
       "      <td>False</td>\n",
       "      <td>False</td>\n",
       "      <td>False</td>\n",
       "      <td>False</td>\n",
       "      <td>False</td>\n",
       "    </tr>\n",
       "    <tr>\n",
       "      <th>3128910</th>\n",
       "      <td>300.0</td>\n",
       "      <td>0.00</td>\n",
       "      <td>0.0</td>\n",
       "      <td>1.0</td>\n",
       "      <td>6.25</td>\n",
       "      <td>41.892508</td>\n",
       "      <td>-87.626215</td>\n",
       "      <td>41.900266</td>\n",
       "      <td>-87.632109</td>\n",
       "      <td>11</td>\n",
       "      <td>...</td>\n",
       "      <td>True</td>\n",
       "      <td>False</td>\n",
       "      <td>False</td>\n",
       "      <td>False</td>\n",
       "      <td>False</td>\n",
       "      <td>False</td>\n",
       "      <td>False</td>\n",
       "      <td>False</td>\n",
       "      <td>False</td>\n",
       "      <td>False</td>\n",
       "    </tr>\n",
       "    <tr>\n",
       "      <th>3128911</th>\n",
       "      <td>1140.0</td>\n",
       "      <td>0.00</td>\n",
       "      <td>0.0</td>\n",
       "      <td>0.0</td>\n",
       "      <td>12.25</td>\n",
       "      <td>41.953582</td>\n",
       "      <td>-87.723452</td>\n",
       "      <td>41.944227</td>\n",
       "      <td>-87.655998</td>\n",
       "      <td>11</td>\n",
       "      <td>...</td>\n",
       "      <td>False</td>\n",
       "      <td>False</td>\n",
       "      <td>False</td>\n",
       "      <td>False</td>\n",
       "      <td>False</td>\n",
       "      <td>True</td>\n",
       "      <td>False</td>\n",
       "      <td>False</td>\n",
       "      <td>False</td>\n",
       "      <td>False</td>\n",
       "    </tr>\n",
       "    <tr>\n",
       "      <th>3128912</th>\n",
       "      <td>420.0</td>\n",
       "      <td>0.00</td>\n",
       "      <td>0.0</td>\n",
       "      <td>0.0</td>\n",
       "      <td>5.85</td>\n",
       "      <td>41.879255</td>\n",
       "      <td>-87.642649</td>\n",
       "      <td>41.880994</td>\n",
       "      <td>-87.632746</td>\n",
       "      <td>11</td>\n",
       "      <td>...</td>\n",
       "      <td>False</td>\n",
       "      <td>False</td>\n",
       "      <td>False</td>\n",
       "      <td>False</td>\n",
       "      <td>False</td>\n",
       "      <td>False</td>\n",
       "      <td>False</td>\n",
       "      <td>False</td>\n",
       "      <td>False</td>\n",
       "      <td>False</td>\n",
       "    </tr>\n",
       "  </tbody>\n",
       "</table>\n",
       "<p>2297168 rows × 173 columns</p>\n",
       "</div>"
      ],
      "text/plain": [
       "         trip_seconds  tips  tolls  extras  trip_total   \n",
       "0               480.0  2.00    0.0     1.0       11.25  \\\n",
       "1               300.0  0.00    0.0     0.0        6.45   \n",
       "2              2220.0  6.00    0.0     2.0       36.05   \n",
       "3               480.0  0.00    0.0     0.0        6.25   \n",
       "4               480.0  2.00    0.0     0.0        8.65   \n",
       "...               ...   ...    ...     ...         ...   \n",
       "3128907         780.0  2.00    0.0     0.0       10.85   \n",
       "3128908        1080.0  2.35    0.0     1.5       14.10   \n",
       "3128910         300.0  0.00    0.0     1.0        6.25   \n",
       "3128911        1140.0  0.00    0.0     0.0       12.25   \n",
       "3128912         420.0  0.00    0.0     0.0        5.85   \n",
       "\n",
       "         pickup_centroid_latitude  pickup_centroid_longitude   \n",
       "0                       41.907492                 -87.635760  \\\n",
       "1                       41.914616                 -87.631717   \n",
       "2                       41.980264                 -87.913625   \n",
       "3                       41.884987                 -87.620993   \n",
       "4                       41.902788                 -87.626146   \n",
       "...                           ...                        ...   \n",
       "3128907                 41.879255                 -87.642649   \n",
       "3128908                 41.880994                 -87.632746   \n",
       "3128910                 41.892508                 -87.626215   \n",
       "3128911                 41.953582                 -87.723452   \n",
       "3128912                 41.879255                 -87.642649   \n",
       "\n",
       "         dropoff_centroid_latitude  dropoff_centroid_longitude  month  ...   \n",
       "0                        41.885281                  -87.657233     10  ...  \\\n",
       "1                        41.899156                  -87.626211      9  ...   \n",
       "2                        41.975171                  -87.687516     10  ...   \n",
       "3                        41.880994                  -87.632746     10  ...   \n",
       "4                        41.890922                  -87.618868     10  ...   \n",
       "...                            ...                         ...    ...  ...   \n",
       "3128907                  41.891972                  -87.612945     12  ...   \n",
       "3128908                  41.898332                  -87.620763     11  ...   \n",
       "3128910                  41.900266                  -87.632109     11  ...   \n",
       "3128911                  41.944227                  -87.655998     11  ...   \n",
       "3128912                  41.880994                  -87.632746     11  ...   \n",
       "\n",
       "         dropoff_community_area_8  dropoff_community_area_9   \n",
       "0                           False                     False  \\\n",
       "1                            True                     False   \n",
       "2                           False                     False   \n",
       "3                           False                     False   \n",
       "4                            True                     False   \n",
       "...                           ...                       ...   \n",
       "3128907                      True                     False   \n",
       "3128908                      True                     False   \n",
       "3128910                      True                     False   \n",
       "3128911                     False                     False   \n",
       "3128912                     False                     False   \n",
       "\n",
       "         payment_type_credit_card  payment_type_dispute  payment_type_mobile   \n",
       "0                            True                 False                False  \\\n",
       "1                           False                 False                False   \n",
       "2                            True                 False                False   \n",
       "3                           False                 False                False   \n",
       "4                            True                 False                False   \n",
       "...                           ...                   ...                  ...   \n",
       "3128907                      True                 False                False   \n",
       "3128908                      True                 False                False   \n",
       "3128910                     False                 False                False   \n",
       "3128911                     False                 False                False   \n",
       "3128912                     False                 False                False   \n",
       "\n",
       "         payment_type_no_charge  payment_type_pcard  payment_type_prcard   \n",
       "0                         False               False                False  \\\n",
       "1                         False               False                False   \n",
       "2                         False               False                False   \n",
       "3                         False               False                False   \n",
       "4                         False               False                False   \n",
       "...                         ...                 ...                  ...   \n",
       "3128907                   False               False                False   \n",
       "3128908                   False               False                False   \n",
       "3128910                   False               False                False   \n",
       "3128911                    True               False                False   \n",
       "3128912                   False               False                False   \n",
       "\n",
       "         payment_type_prepaid  payment_type_unknown  \n",
       "0                       False                 False  \n",
       "1                       False                 False  \n",
       "2                       False                 False  \n",
       "3                       False                 False  \n",
       "4                       False                 False  \n",
       "...                       ...                   ...  \n",
       "3128907                 False                 False  \n",
       "3128908                 False                 False  \n",
       "3128910                 False                 False  \n",
       "3128911                 False                 False  \n",
       "3128912                 False                 False  \n",
       "\n",
       "[2297168 rows x 173 columns]"
      ]
     },
     "execution_count": 28,
     "metadata": {},
     "output_type": "execute_result"
    }
   ],
   "source": [
    "data_dum = pd.get_dummies(data_, drop_first=True)\n",
    "cols = [c.lower().replace(\" \", \"_\") for c in data_dum.columns]\n",
    "data_dum.columns = cols\n",
    "data_dum"
   ]
  },
  {
   "cell_type": "code",
   "execution_count": 29,
   "metadata": {},
   "outputs": [
    {
     "name": "stdout",
     "output_type": "stream",
     "text": [
      "<class 'pandas.core.frame.DataFrame'>\n",
      "Index: 2297168 entries, 0 to 3128912\n",
      "Columns: 173 entries, trip_seconds to payment_type_unknown\n",
      "dtypes: bool(160), float64(9), int32(4)\n",
      "memory usage: 560.8 MB\n"
     ]
    }
   ],
   "source": [
    "data_dum.info()"
   ]
  },
  {
   "cell_type": "markdown",
   "metadata": {},
   "source": [
    "# TRAIN TEST SPLIT"
   ]
  },
  {
   "cell_type": "code",
   "execution_count": 66,
   "metadata": {},
   "outputs": [],
   "source": [
    "\n",
    "from sklearn.model_selection import train_test_split\n",
    "data_dum = data_dum[data_dum[\"trip_total\"] <= 25]\n",
    "X = data_dum.drop([\"trip_total\", \"tips\", \"tolls\", \"extras\"], axis=1)\n",
    "y = data_dum[\"trip_total\"]\n",
    "\n",
    "X_train, X_test, y_train, y_test = train_test_split(X, y, test_size=0.33, random_state=42)"
   ]
  },
  {
   "cell_type": "markdown",
   "metadata": {},
   "source": [
    "# TRAIN MODEL XGBOOST"
   ]
  },
  {
   "cell_type": "code",
   "execution_count": 67,
   "metadata": {},
   "outputs": [
    {
     "data": {
      "text/html": [
       "<style>#sk-container-id-3 {color: black;}#sk-container-id-3 pre{padding: 0;}#sk-container-id-3 div.sk-toggleable {background-color: white;}#sk-container-id-3 label.sk-toggleable__label {cursor: pointer;display: block;width: 100%;margin-bottom: 0;padding: 0.3em;box-sizing: border-box;text-align: center;}#sk-container-id-3 label.sk-toggleable__label-arrow:before {content: \"▸\";float: left;margin-right: 0.25em;color: #696969;}#sk-container-id-3 label.sk-toggleable__label-arrow:hover:before {color: black;}#sk-container-id-3 div.sk-estimator:hover label.sk-toggleable__label-arrow:before {color: black;}#sk-container-id-3 div.sk-toggleable__content {max-height: 0;max-width: 0;overflow: hidden;text-align: left;background-color: #f0f8ff;}#sk-container-id-3 div.sk-toggleable__content pre {margin: 0.2em;color: black;border-radius: 0.25em;background-color: #f0f8ff;}#sk-container-id-3 input.sk-toggleable__control:checked~div.sk-toggleable__content {max-height: 200px;max-width: 100%;overflow: auto;}#sk-container-id-3 input.sk-toggleable__control:checked~label.sk-toggleable__label-arrow:before {content: \"▾\";}#sk-container-id-3 div.sk-estimator input.sk-toggleable__control:checked~label.sk-toggleable__label {background-color: #d4ebff;}#sk-container-id-3 div.sk-label input.sk-toggleable__control:checked~label.sk-toggleable__label {background-color: #d4ebff;}#sk-container-id-3 input.sk-hidden--visually {border: 0;clip: rect(1px 1px 1px 1px);clip: rect(1px, 1px, 1px, 1px);height: 1px;margin: -1px;overflow: hidden;padding: 0;position: absolute;width: 1px;}#sk-container-id-3 div.sk-estimator {font-family: monospace;background-color: #f0f8ff;border: 1px dotted black;border-radius: 0.25em;box-sizing: border-box;margin-bottom: 0.5em;}#sk-container-id-3 div.sk-estimator:hover {background-color: #d4ebff;}#sk-container-id-3 div.sk-parallel-item::after {content: \"\";width: 100%;border-bottom: 1px solid gray;flex-grow: 1;}#sk-container-id-3 div.sk-label:hover label.sk-toggleable__label {background-color: #d4ebff;}#sk-container-id-3 div.sk-serial::before {content: \"\";position: absolute;border-left: 1px solid gray;box-sizing: border-box;top: 0;bottom: 0;left: 50%;z-index: 0;}#sk-container-id-3 div.sk-serial {display: flex;flex-direction: column;align-items: center;background-color: white;padding-right: 0.2em;padding-left: 0.2em;position: relative;}#sk-container-id-3 div.sk-item {position: relative;z-index: 1;}#sk-container-id-3 div.sk-parallel {display: flex;align-items: stretch;justify-content: center;background-color: white;position: relative;}#sk-container-id-3 div.sk-item::before, #sk-container-id-3 div.sk-parallel-item::before {content: \"\";position: absolute;border-left: 1px solid gray;box-sizing: border-box;top: 0;bottom: 0;left: 50%;z-index: -1;}#sk-container-id-3 div.sk-parallel-item {display: flex;flex-direction: column;z-index: 1;position: relative;background-color: white;}#sk-container-id-3 div.sk-parallel-item:first-child::after {align-self: flex-end;width: 50%;}#sk-container-id-3 div.sk-parallel-item:last-child::after {align-self: flex-start;width: 50%;}#sk-container-id-3 div.sk-parallel-item:only-child::after {width: 0;}#sk-container-id-3 div.sk-dashed-wrapped {border: 1px dashed gray;margin: 0 0.4em 0.5em 0.4em;box-sizing: border-box;padding-bottom: 0.4em;background-color: white;}#sk-container-id-3 div.sk-label label {font-family: monospace;font-weight: bold;display: inline-block;line-height: 1.2em;}#sk-container-id-3 div.sk-label-container {text-align: center;}#sk-container-id-3 div.sk-container {/* jupyter's `normalize.less` sets `[hidden] { display: none; }` but bootstrap.min.css set `[hidden] { display: none !important; }` so we also need the `!important` here to be able to override the default hidden behavior on the sphinx rendered scikit-learn.org. See: https://github.com/scikit-learn/scikit-learn/issues/21755 */display: inline-block !important;position: relative;}#sk-container-id-3 div.sk-text-repr-fallback {display: none;}</style><div id=\"sk-container-id-3\" class=\"sk-top-container\"><div class=\"sk-text-repr-fallback\"><pre>XGBRegressor(base_score=None, booster=None, callbacks=None,\n",
       "             colsample_bylevel=None, colsample_bynode=None,\n",
       "             colsample_bytree=0.8, early_stopping_rounds=None,\n",
       "             enable_categorical=False, eta=0.1, eval_metric=None,\n",
       "             feature_types=None, gamma=None, gpu_id=None, grow_policy=None,\n",
       "             importance_type=None, interaction_constraints=None,\n",
       "             learning_rate=None, max_bin=None, max_cat_threshold=None,\n",
       "             max_cat_to_onehot=None, max_delta_step=None, max_depth=7,\n",
       "             max_leaves=None, min_child_weight=None, missing=nan,\n",
       "             monotone_constraints=None, n_estimators=1000, n_jobs=None,\n",
       "             num_parallel_tree=None, predictor=None, ...)</pre><b>In a Jupyter environment, please rerun this cell to show the HTML representation or trust the notebook. <br />On GitHub, the HTML representation is unable to render, please try loading this page with nbviewer.org.</b></div><div class=\"sk-container\" hidden><div class=\"sk-item\"><div class=\"sk-estimator sk-toggleable\"><input class=\"sk-toggleable__control sk-hidden--visually\" id=\"sk-estimator-id-3\" type=\"checkbox\" checked><label for=\"sk-estimator-id-3\" class=\"sk-toggleable__label sk-toggleable__label-arrow\">XGBRegressor</label><div class=\"sk-toggleable__content\"><pre>XGBRegressor(base_score=None, booster=None, callbacks=None,\n",
       "             colsample_bylevel=None, colsample_bynode=None,\n",
       "             colsample_bytree=0.8, early_stopping_rounds=None,\n",
       "             enable_categorical=False, eta=0.1, eval_metric=None,\n",
       "             feature_types=None, gamma=None, gpu_id=None, grow_policy=None,\n",
       "             importance_type=None, interaction_constraints=None,\n",
       "             learning_rate=None, max_bin=None, max_cat_threshold=None,\n",
       "             max_cat_to_onehot=None, max_delta_step=None, max_depth=7,\n",
       "             max_leaves=None, min_child_weight=None, missing=nan,\n",
       "             monotone_constraints=None, n_estimators=1000, n_jobs=None,\n",
       "             num_parallel_tree=None, predictor=None, ...)</pre></div></div></div></div></div>"
      ],
      "text/plain": [
       "XGBRegressor(base_score=None, booster=None, callbacks=None,\n",
       "             colsample_bylevel=None, colsample_bynode=None,\n",
       "             colsample_bytree=0.8, early_stopping_rounds=None,\n",
       "             enable_categorical=False, eta=0.1, eval_metric=None,\n",
       "             feature_types=None, gamma=None, gpu_id=None, grow_policy=None,\n",
       "             importance_type=None, interaction_constraints=None,\n",
       "             learning_rate=None, max_bin=None, max_cat_threshold=None,\n",
       "             max_cat_to_onehot=None, max_delta_step=None, max_depth=7,\n",
       "             max_leaves=None, min_child_weight=None, missing=nan,\n",
       "             monotone_constraints=None, n_estimators=1000, n_jobs=None,\n",
       "             num_parallel_tree=None, predictor=None, ...)"
      ]
     },
     "execution_count": 67,
     "metadata": {},
     "output_type": "execute_result"
    }
   ],
   "source": [
    "from xgboost import XGBRegressor\n",
    "model = XGBRegressor(n_estimators=1000, max_depth=7, eta=0.1, subsample=0.7, colsample_bytree=0.8)\n",
    "model.fit(X_train, y_train)"
   ]
  },
  {
   "cell_type": "markdown",
   "metadata": {},
   "source": [
    "# EVALUATE MODEL"
   ]
  },
  {
   "cell_type": "code",
   "execution_count": null,
   "metadata": {},
   "outputs": [],
   "source": [
    "from sklearn.model_selection import RepeatedKFold\n",
    "from sklearn.model_selection import cross_val_score\n",
    "from numpy import absolute\n",
    "\n",
    "cv = RepeatedKFold(n_splits=10, n_repeats=3, random_state=1)\n",
    "scores = cross_val_score(model, X_test, y_test, scoring='neg_mean_absolute_error', cv=cv, n_jobs=-1)\n",
    "\n",
    "scores = absolute(scores)\n",
    "print('Mean MAE: %.3f (%.3f)' % (scores.mean(), scores.std()) )"
   ]
  },
  {
   "cell_type": "markdown",
   "metadata": {},
   "source": [
    "## SIMPLE EVALUATION"
   ]
  },
  {
   "cell_type": "code",
   "execution_count": 68,
   "metadata": {},
   "outputs": [
    {
     "name": "stdout",
     "output_type": "stream",
     "text": [
      "RMSE :  1.273977\n"
     ]
    }
   ],
   "source": [
    "import numpy as np\n",
    "from sklearn.metrics import mean_squared_error as MSE\n",
    "\n",
    "pred = model.predict(X_test)\n",
    "rmse = np.sqrt(MSE(y_test, pred))\n",
    "print(\"RMSE : % f\" %(rmse))"
   ]
  },
  {
   "cell_type": "code",
   "execution_count": 45,
   "metadata": {},
   "outputs": [
    {
     "data": {
      "text/plain": [
       "1447455    1000.95\n",
       "1863630    1002.70\n",
       "1632525    1003.74\n",
       "2549348    1005.25\n",
       "3033462    1007.63\n",
       "            ...   \n",
       "1915623    8873.21\n",
       "315647     8889.91\n",
       "33311      8896.03\n",
       "2512975    8917.36\n",
       "2185772    9364.85\n",
       "Name: trip_total, Length: 171, dtype: float64"
      ]
     },
     "execution_count": 45,
     "metadata": {},
     "output_type": "execute_result"
    }
   ],
   "source": [
    "y_train[y_train > 1000].sort_values()"
   ]
  },
  {
   "cell_type": "code",
   "execution_count": 59,
   "metadata": {},
   "outputs": [
    {
     "data": {
      "text/plain": [
       "<Axes: ylabel='Frequency'>"
      ]
     },
     "execution_count": 59,
     "metadata": {},
     "output_type": "execute_result"
    },
    {
     "data": {
      "image/png": "[encoded data removed]",
      "text/plain": [
       "<Figure size 640x480 with 1 Axes>"
      ]
     },
     "metadata": {},
     "output_type": "display_data"
    }
   ],
   "source": [
    "y_test.plot.hist()"
   ]
  },
  {
   "cell_type": "code",
   "execution_count": 64,
   "metadata": {},
   "outputs": [
    {
     "data": {
      "text/plain": [
       "<Axes: >"
      ]
     },
     "execution_count": 64,
     "metadata": {},
     "output_type": "execute_result"
    },
    {
     "data": {
      "image/png": "[encoded data removed]",
      "text/plain": [
       "<Figure size 640x480 with 1 Axes>"
      ]
     },
     "metadata": {},
     "output_type": "display_data"
    }
   ],
   "source": [
    "y_train[y_train.values < 10].hist()"
   ]
  }
 ],
 "metadata": {
  "kernelspec": {
   "display_name": "Python 3",
   "language": "python",
   "name": "python3"
  },
  "language_info": {
   "codemirror_mode": {
    "name": "ipython",
    "version": 3
   },
   "file_extension": ".py",
   "mimetype": "text/x-python",
   "name": "python",
   "nbconvert_exporter": "python",
   "pygments_lexer": "ipython3",
   "version": "3.11.4"
  },
  "orig_nbformat": 4
 },
 "nbformat": 4,
 "nbformat_minor": 2
}
