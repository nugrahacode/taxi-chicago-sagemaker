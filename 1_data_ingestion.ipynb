{
 "cells": [
  {
   "cell_type": "markdown",
   "metadata": {},
   "source": [
    "- This notebook will download the dataset from Chicago Data Portal and put it into S3 bucket.\n",
    "- The file will then be consumed by SageMaker Data Wrangler that will do transformation and put it into a SageMaker Feature Store."
   ]
  },
  {
   "cell_type": "markdown",
   "metadata": {},
   "source": [
    "## 0. Import packages and config"
   ]
  },
  {
   "cell_type": "code",
   "execution_count": null,
   "metadata": {},
   "outputs": [],
   "source": [
    "import os\n",
    "import time\n",
    "import yaml\n",
    "import boto3\n",
    "\n",
    "bucket=sagemaker.Session().default_bucket()\n",
    "prefix = \"dataset\"\n"
   ]
  },
  {
   "cell_type": "markdown",
   "metadata": {},
   "source": [
    "## 1. Download file from Chicago Data Portal"
   ]
  },
  {
   "cell_type": "code",
   "execution_count": null,
   "metadata": {},
   "outputs": [],
   "source": [
    "! mkdir dataset"
   ]
  },
  {
   "cell_type": "code",
   "execution_count": null,
   "metadata": {},
   "outputs": [],
   "source": [
    "year = 2023\n",
    "\n",
    "for month in range(1,13):\n",
    "    for day in range(1,31):\n",
    "        file_name = f\"dataset/{year}_{month}_{day}.csv\"\n",
    "        year_month_day = f\"{year}-{month}-{day}\"\n",
    "        time.sleep(5)\n",
    "        limit = 1000\n",
    "        os.system(f\"curl -o {file_name} 'https://data.cityofchicago.org/resource/wrvz-psew.csv?$limit={limit}&$offset=&$where=trip_start_timestamp%20between%20%27{year_month_day}T00:00:00%27%20and%20%27{year_month_day}T23:00:00%27'\")"
   ]
  },
  {
   "cell_type": "markdown",
   "metadata": {},
   "source": [
    "## 2. Put the file into S3 bucket"
   ]
  },
  {
   "cell_type": "code",
   "execution_count": null,
   "metadata": {},
   "outputs": [],
   "source": [
    "# instantiate S3 client and upload to s3\n",
    "\n",
    "files = os.listdir(\"dataset\")\n",
    "s3 = boto3.resource('s3')\n",
    "\n",
    "for f in files:\n",
    "    if \".csv\" in f:\n",
    "        file_path = f\"dataset/{f}\"\n",
    "        s3.meta.client.upload_file(file_path, bucket_name, os.path.join(prefix, f))"
   ]
  }
 ],
 "metadata": {
  "kernelspec": {
   "display_name": "Python 3",
   "language": "python",
   "name": "python3"
  },
  "language_info": {
   "codemirror_mode": {
    "name": "ipython",
    "version": 3
   },
   "file_extension": ".py",
   "mimetype": "text/x-python",
   "name": "python",
   "nbconvert_exporter": "python",
   "pygments_lexer": "ipython3",
   "version": "3.11.4"
  },
  "orig_nbformat": 4
 },
 "nbformat": 4,
 "nbformat_minor": 2
}
